{
 "cells": [
  {
   "cell_type": "code",
   "execution_count": 11,
   "metadata": {},
   "outputs": [
    {
     "name": "stdout",
     "output_type": "stream",
     "text": [
      "Note: you may need to restart the kernel to use updated packages.\n",
      "Note: you may need to restart the kernel to use updated packages.\n"
     ]
    }
   ],
   "source": [
    "%pip install -qU langchain-openai\n",
    "%pip install langchain-core langgraph>0.2.27"
   ]
  },
  {
   "cell_type": "code",
   "execution_count": 8,
   "metadata": {},
   "outputs": [],
   "source": [
    "# load data from cv.txt and return text_data\n",
    "def load_data():\n",
    "    # load data from cv.txt\n",
    "    with open('cv.txt', 'r') as f:\n",
    "        text_data = f.read()\n",
    "    return text_data\n",
    "\n",
    "text_data = load_data()"
   ]
  },
  {
   "cell_type": "code",
   "execution_count": 9,
   "metadata": {},
   "outputs": [
    {
     "data": {
      "text/plain": [
       "\"Graduating as a Bachelor of Accounting and Auditing, I have a background in \\n                                                     economics.  With experience working in different positions at foreign \\n                                                     company, large domestic corporations in many fields, I am confident in my \\n                                                     ability to adapt in all working environments and want to find opportunity of \\n                                                     long-term commitment to contribute to the success of your Company.\\n\\n                                                      \\uf1fd 28/12/1992\\n\\n                                                      \\uf0e0 mailto:haiquynh.92@gmail.com\\n\\n                                                         262/15 Luy Ban Bich, Hoa Thanh\\n                                                      \\uf041\\n                                                         Ward, Tan Phu Dist., HCMC\\n\\n                                                      \\uf095 0973 893 141\\n\\n\\n\\n     NGUYEN THI QUYNH\\n\\n\\n\\n       SKILLS                                          EXPERIENCES \\n\\n       Team working                                           TIEN PHAT CORP. - HOA BINH\\n                                                                                                                  3/2018 - 12/2020\\n                                                              CONSTRUCTION GROUP\\n       Communication/ Presentation                            1/ Sale administrator \\n                                                              - Organize, arrange and plan things in the process of project \\n                                                              implementation.  As connection between  other departments and \\n       Office informatic application/ Using\\n                                                              sales department during the sales process.\\n       softwares in work\\n                                                              -  Supporting the Sale Manager to do market research and propose of \\n                                                              Sale plan. Support to set up price list as the Board of Directors \\n                                                              requested\\n       English communication \\n                                                              -  Work with brokers, partners to distribute product (apartments), \\n                                                              reconcile transactions and checking payment records \\n                                                              - Manage and update project's cart, receive project information and  \\n       CERTIFICATION                                          coordinate with sales staff in the processing.\\n                                                              - Control customer profile and support to issuing contracts or resale \\n                                                              processing.\\n       * TOEIC 655                  (2014)\\n                                                              - Monitoring and implementing periodic reports as requested \\n       Certificated by IIG Viet Nam                           - Monitoring project cash flow, make payments with partners/ \\n                                                              brokers\\n       * ENGLISH                                                      \\n       COMMUNICATION                                          2/ Customer service \\n       SKILLS                                                 - Track customer liabilities for each project: send payment notice, \\n                                                              follow customer's payment and report to Account department. \\n       (2014)                                                 - Store customer records, update information changes \\n       Certificated by ILA Viet Nam                           customer\\n                                                              - Doing customer service, solving customer's request/ complaining\\n\\n\\n\\n                                                                                                                 1 of 3 - ©VietCV.io\""
      ]
     },
     "execution_count": 9,
     "metadata": {},
     "output_type": "execute_result"
    }
   ],
   "source": [
    "text_data"
   ]
  },
  {
   "cell_type": "code",
   "execution_count": 4,
   "metadata": {},
   "outputs": [],
   "source": [
    "from langchain_openai import ChatOpenAI\n",
    "from langchain_core.messages import HumanMessage, SystemMessage\n",
    "\n",
    "messages = [\n",
    "    SystemMessage(\n",
    "        content=\"You are a recruiter, you will read the CV and extract full name, and their skills.\"\n",
    "    ),\n",
    "    HumanMessage(\n",
    "        content= f\"I will provide you a CV text, please help to extract full_name and skills, here is the text: {text_data}\"\n",
    "    )\n",
    "]\n",
    "\n",
    "llm = ChatOpenAI(model=\"gpt-4o-mini\")\n",
    "result = llm.invoke(input=messages)"
   ]
  },
  {
   "cell_type": "code",
   "execution_count": 6,
   "metadata": {},
   "outputs": [
    {
     "data": {
      "text/plain": [
       "'Full Name: NGUYEN LE HAI QUYNH\\n\\nSkills:\\n- Team working\\n- Communication/Presentation\\n- Office informatic application/Using software in work\\n- English communication\\n- Sale administration\\n- Market research and sales planning\\n- Project management and coordination\\n- Customer service and relationship management'"
      ]
     },
     "execution_count": 6,
     "metadata": {},
     "output_type": "execute_result"
    }
   ],
   "source": [
    "result.content"
   ]
  }
 ],
 "metadata": {
  "kernelspec": {
   "display_name": ".venv",
   "language": "python",
   "name": "python3"
  },
  "language_info": {
   "codemirror_mode": {
    "name": "ipython",
    "version": 3
   },
   "file_extension": ".py",
   "mimetype": "text/x-python",
   "name": "python",
   "nbconvert_exporter": "python",
   "pygments_lexer": "ipython3",
   "version": "3.11.7"
  }
 },
 "nbformat": 4,
 "nbformat_minor": 2
}
